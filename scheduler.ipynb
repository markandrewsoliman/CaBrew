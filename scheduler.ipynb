{
  "cells": [
    {
      "cell_type": "markdown",
      "metadata": {
        "id": "view-in-github",
        "colab_type": "text"
      },
      "source": [
        "<a href=\"https://colab.research.google.com/github/markandrewsoliman/CaBrew/blob/main/scheduler.ipynb\" target=\"_parent\"><img src=\"https://colab.research.google.com/assets/colab-badge.svg\" alt=\"Open In Colab\"/></a>"
      ]
    },
    {
      "cell_type": "code",
      "execution_count": null,
      "metadata": {
        "colab": {
          "base_uri": "https://localhost:8080/"
        },
        "id": "TdcSZgy5HB0W",
        "outputId": "1bdaa43d-e94c-40f8-ca4b-895bbe1f8ef4"
      },
      "outputs": [
        {
          "output_type": "stream",
          "name": "stdout",
          "text": [
            "Mounted at /content/drive\n",
            "Starting Telethon client...\n",
            "Client connected and authorized.\n",
            "Not yet time for set 1. Current time: 02:49\n",
            "Not yet time for set 2. Current time: 02:49\n",
            "Not yet time for set 3. Current time: 02:49\n",
            "Not yet time for set 4. Current time: 02:49\n"
          ]
        }
      ],
      "source": [
        "import os\n",
        "from datetime import datetime\n",
        "import asyncio\n",
        "import nest_asyncio\n",
        "import time\n",
        "from telethon import TelegramClient, events\n",
        "from telethon.errors import SessionPasswordNeededError\n",
        "import sqlite3\n",
        "from google.colab import drive\n",
        "import pytz\n",
        "import shutil\n",
        "\n",
        "drive.mount('/content/drive', force_remount=True)\n",
        "nest_asyncio.apply()\n",
        "\n",
        "API_ID = 26203352\n",
        "API_HASH = 'ca2be12d169f7817cbc01a5f3ba580af'\n",
        "shutil.copy('/content/your_session_file.session', '/tmp/your_session_file.session')\n",
        "SESSION_NAME = '/tmp/your_session_file.session'\n",
        "SOURCE_GROUP_ID = -1001739812358\n",
        "MESSAGE_ID = 32\n",
        "\n",
        "DESTINATION_SETS = {\n",
        "    1: [-1001843263657, -1002238665118, -1001358229200, -1888818526, -1001391721734, -1001435271098, -1001358229200, -1001391721734, -1001435271098, -1001270456524, -1001473487521, -1001431981808, -1001170418299, -1001289125640, -1001494427016, -1001493127931, -1001433496581, -1001358186422, -1001465794190, -1001354615413, -1001225635285, -1001085943722, -1001255210585, -1001555587234, -1001378145953, -1001319390715, -1001462365230, -1001729611504, -1001159126287, -1001379273366, -1001358661156, -1001379332226, -1001227368245, -1001245550964, -1001311790526, -1001405254454, -1001379420936, -1001259454821, -1001305830922, -1001428700086, -1001180218073, -1001205196662, -1001332205503, -1001261114547, -1001430405102, -1001245010351, -1001329950835, -1001412967174, -1001437684288, -1001383429967, -1001388029809, -1001207248876, -1001400604725, -1001302782255, -1001476510643, -1001396634313, -1001331135086, -1001471852664, -1001444483723, -1001495876403, -1001266787943],\n",
        "    2: [-1001457682317, -1001238356209, -1888818526, -1001486934103, -1001260391401, -1001412489069, -1001455111422, -1001214804837, -1001459598289, -1001254354410, -1001413845967, -1001497220926, -1001198131718, -1001545621104, -1001417459096, -1001495514432, -1001236388750, -1001346068933, -1001401826587, -1001418967048, -1001251761464, -1001426782404, -1001331657499, -1001168540949, -1001431366082, -1001261110174, -1001488257051, -1001589467597, -1001186820460, -1001403559993, -1001151823042, -1001494942993, -1001431981808, -1001327361438, -1001495188348, -1001264374346, -1001329926109, -1001845372210, -1001404312159, -1001439097256, -1001458418279, -1001317985283, -1001463531438, -1001230418771, -1001254157253, -1001219877201, -1001460536366, -1001512534731, -1001459593094, -1001329917277, -1001265846172, -1001352981838, -1001448994516, -1001381313047, -1001235289327, -1001169087800, -1001264967245, -1001239379486, -1001592607417, -1001531480831, -1001305285907, -1001458881541],\n",
        "    3: [-1001190267572, -1888818526, -1001667951540, -1001462685825, -1001321698163, -1001490948011, -1001202344162, -1001189951567, -1001318466170, -1001164867975, -1001321741450, -1001481051857, -1001421718699, -1001267886027, -1001285934353, -1001206257821, -1001440769348, -1001735054352, -1001564841852, -1001577668835, -1001744860430, -1001266742232, -1001301093493, -1001488152634, -1001467907325, -1001137161275, -1001481453225, -1001192638217, -1001228219840, -1001267489377, -1001394889403, -1001240563098, -1001195847383, -1001454526869, -1001491143690, -1001289952964, -1001341539429, -1001326058399, -1001254025617, -1001254285481, -1001317145992, -1001172881766, -1001375787941, -1001475006158, -1001301956329, -1001690609521, -1001165794313, -1001174495534, -1001739812358, -1001144996937],\n",
        "    4: [-633537570, -1888818526]\n",
        "}\n",
        "\n",
        "# Define schedules for each set\n",
        "SCHEDULES = {\n",
        "     1: [\"22:03\", \"23:03\", \"00:03\", \"01:03\", \"02:03\", \"03:03\", \"04:03\", \"05:03\", \"06:03\", \"07:03\", \"08:03\", \"09:03\", \"10:03\", \"11:03\", \"12:03\", \"13:03\", \"14:03\"],\n",
        "    2: [\"22:23\", \"23:23\", \"00:23\", \"01:23\", \"02:23\", \"03:23\", \"04:23\", \"05:23\", \"06:23\", \"07:23\", \"08:23\", \"09:23\", \"10:23\", \"11:23\", \"12:23\", \"13:23\", \"14:23\"],\n",
        "    3: [\"22:43\", \"23:43\", \"00:43\", \"01:43\", \"02:43\", \"03:43\", \"04:43\", \"05:43\", \"06:43\", \"07:43\", \"08:43\", \"09:43\", \"10:43\", \"11:43\", \"12:43\", \"13:43\", \"14:43\"],\n",
        "    4: [\"22:53\", \"23:53\", \"00:53\", \"01:53\", \"02:53\", \"03:53\", \"04:53\", \"05:53\", \"06:53\", \"07:53\", \"08:53\", \"09:53\", \"10:53\", \"11:53\", \"12:53\", \"13:53\", \"14:53\"]\n",
        "}\n",
        "\n",
        "client = TelegramClient(SESSION_NAME, API_ID, API_HASH)\n",
        "\n",
        "def convert_utc_to_local(utc_dt):\n",
        "    local_tz = pytz.timezone('Asia/Singapore')  # Asia/Singapore is UTC+8\n",
        "    return utc_dt.astimezone(local_tz)\n",
        "\n",
        "async def forward_message_to_destination(message, destination_set):\n",
        "    print(f\"Forwarding message to set {destination_set}...\")\n",
        "    destination_group_ids = DESTINATION_SETS[destination_set]\n",
        "    for destination_group_id in destination_group_ids:\n",
        "        try:\n",
        "            entity = await get_entity_with_retry(client, destination_group_id)\n",
        "            await client.send_message(entity, message)\n",
        "            print(f\"Message forwarded to group {destination_group_id}: {MESSAGE_ID}\")\n",
        "        except Exception as e:\n",
        "            print(f\"Failed to forward message to group {destination_group_id}: {e}\")\n",
        "\n",
        "async def forward_specific_message(set_id):\n",
        "    print(\"Fetching specific message...\")\n",
        "    message = await client.get_messages(SOURCE_GROUP_ID, ids=MESSAGE_ID)\n",
        "    if message:\n",
        "        await forward_message_to_destination(message, set_id)\n",
        "    else:\n",
        "        print(f\"Message with ID {MESSAGE_ID} not found.\")\n",
        "\n",
        "async def schedule_forwarding():\n",
        "    now = datetime.now()\n",
        "    current_time = now.strftime(\"%H:%M\")\n",
        "    for set_id, start_times in SCHEDULES.items():\n",
        "        if current_time in start_times:\n",
        "            print(f\"Scheduled time reached for set {set_id}: {current_time}\")\n",
        "            await forward_specific_message(set_id)\n",
        "        else:\n",
        "            print(f\"Not yet time for set {set_id}. Current time: {current_time}\")\n",
        "\n",
        "async def get_entity_with_retry(client, group_id, retries=5):\n",
        "    for attempt in range(retries):\n",
        "        try:\n",
        "            return await client.get_entity(group_id)\n",
        "        except sqlite3.OperationalError:\n",
        "            print(\"Database locked, retrying...\")\n",
        "            time.sleep(1)  # Wait before retrying\n",
        "    raise Exception(\"Failed to get entity after several attempts\")\n",
        "def _update_session_table(self):\n",
        "    with self._conn:\n",
        "        cursor = self._conn.cursor()\n",
        "        execute_with_retry(cursor, 'delete from sessions')\n",
        "        execute_with_retry(cursor, 'insert or replace into sessions values (?,?,?,?,?)', (\n",
        "            self._dc_id,\n",
        "            self._test_mode,\n",
        "            self._auth_key.key,\n",
        "            self._server_address,\n",
        "            self._port\n",
        "        ))\n",
        "\n",
        "\n",
        "async def main():\n",
        "    print(\"Starting Telethon client...\")\n",
        "    await client.start()\n",
        "    print(\"Client connected and authorized.\")\n",
        "    await schedule_forwarding()\n",
        "\n",
        "async def get_entity_with_retry(client, group_id, retries=5):\n",
        "    for attempt in range(retries):\n",
        "        try:\n",
        "            return await client.get_entity(group_id)\n",
        "        except sqlite3.OperationalError:\n",
        "            print(\"Database locked, retrying...\")\n",
        "            time.sleep(1)  # Wait before retrying\n",
        "    raise Exception(\"Failed to get entity after several attempts\")\n",
        "\n",
        "async def close_client():\n",
        " await client.disconnect()\n",
        " client.session.close()\n",
        "# Run the main coroutine directly\n",
        "asyncio.run(main())"
      ]
    },
    {
      "cell_type": "markdown",
      "source": [],
      "metadata": {
        "id": "BnKqzQX-agVO"
      }
    },
    {
      "cell_type": "code",
      "execution_count": null,
      "metadata": {
        "id": "IZSqIA-ujgAa",
        "colab": {
          "base_uri": "https://localhost:8080/"
        },
        "outputId": "520fde76-337d-463a-f903-e062f1b40df1"
      },
      "outputs": [
        {
          "output_type": "stream",
          "name": "stdout",
          "text": [
            "Collecting telethon\n",
            "  Downloading Telethon-1.36.0.tar.gz (606 kB)\n",
            "\u001b[2K     \u001b[90m━━━━━━━━━━━━━━━━━━━━━━━━━━━━━━━━━━━━━━━━\u001b[0m \u001b[32m606.3/606.3 kB\u001b[0m \u001b[31m8.1 MB/s\u001b[0m eta \u001b[36m0:00:00\u001b[0m\n",
            "\u001b[?25h  Installing build dependencies ... \u001b[?25l\u001b[?25hdone\n",
            "  Getting requirements to build wheel ... \u001b[?25l\u001b[?25hdone\n",
            "  Preparing metadata (pyproject.toml) ... \u001b[?25l\u001b[?25hdone\n",
            "Collecting pyaes (from telethon)\n",
            "  Downloading pyaes-1.6.1.tar.gz (28 kB)\n",
            "  Preparing metadata (setup.py) ... \u001b[?25l\u001b[?25hdone\n",
            "Requirement already satisfied: rsa in /usr/local/lib/python3.10/dist-packages (from telethon) (4.9)\n",
            "Requirement already satisfied: pyasn1>=0.1.3 in /usr/local/lib/python3.10/dist-packages (from rsa->telethon) (0.6.0)\n",
            "Building wheels for collected packages: telethon, pyaes\n",
            "  Building wheel for telethon (pyproject.toml) ... \u001b[?25l\u001b[?25hdone\n",
            "  Created wheel for telethon: filename=Telethon-1.36.0-py3-none-any.whl size=680881 sha256=1173655c3539c6c1f7dcdc4005bac322d8a7e0eef86b0702d6f09c190e193d39\n",
            "  Stored in directory: /root/.cache/pip/wheels/4f/6f/86/da2c68242ca7dd92786186731ee763b7ecac8866666ac47170\n",
            "  Building wheel for pyaes (setup.py) ... \u001b[?25l\u001b[?25hdone\n",
            "  Created wheel for pyaes: filename=pyaes-1.6.1-py3-none-any.whl size=26346 sha256=ad8e2580d3f7c998807318f11addd54bf781b6116d3563c4c525c731406be555\n",
            "  Stored in directory: /root/.cache/pip/wheels/d6/84/5f/ea6aef85a93c7e1922486369874f4740a5642d261e09c59140\n",
            "Successfully built telethon pyaes\n",
            "Installing collected packages: pyaes, telethon\n",
            "Successfully installed pyaes-1.6.1 telethon-1.36.0\n",
            "Collecting schedule\n",
            "  Downloading schedule-1.2.2-py3-none-any.whl.metadata (3.8 kB)\n",
            "Downloading schedule-1.2.2-py3-none-any.whl (12 kB)\n",
            "Installing collected packages: schedule\n",
            "Successfully installed schedule-1.2.2\n"
          ]
        }
      ],
      "source": [
        "!pip install telethon\n",
        "!pip install schedule"
      ]
    }
  ],
  "metadata": {
    "colab": {
      "provenance": [],
      "include_colab_link": true
    },
    "kernelspec": {
      "display_name": "Python 3",
      "name": "python3"
    },
    "language_info": {
      "name": "python"
    }
  },
  "nbformat": 4,
  "nbformat_minor": 0
}